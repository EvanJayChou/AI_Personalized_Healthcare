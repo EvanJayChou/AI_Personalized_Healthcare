{
 "cells": [
  {
   "cell_type": "markdown",
   "metadata": {},
   "source": [
    "Testing the API"
   ]
  },
  {
   "cell_type": "code",
   "execution_count": null,
   "metadata": {},
   "outputs": [
    {
     "name": "stdout",
     "output_type": "stream",
     "text": [
      "ChatCompletionResponse(id='chatcmpl-64c53c43-2d15-494b-a517-0227b423efd2', choices=[ChatCompletionResponseChoice(finish_reason='stop', index=0, message=ChatCompletionResponseChoiceMessage(role='assistant', content='ChatGPT is an artificial intelligence (AI) chatbot developed by the company OpenAI. Here are some of the best ways to use ChatGPT:\\n\\n1. **Conversational Learning**: ChatGPT can be used as a study companion. You can ask it to explain complex concepts, summarize articles or books, or provide practice questions for exams.\\n2. **Language Translation**: ChatGPT can translate text from one language to another, including popular languages such as Spanish, French, German, Chinese, and many more.\\n3. **Grammar and Spell Checking**: ChatGPT can help with grammar and spell checking, providing corrections and suggestions for better sentence structure and vocabulary.\\n4. **Creative Writing**: ChatGPT can assist with creative writing tasks, such as suggesting plot twists, characters, or even entire stories. It can also provide feedback on your writing.\\n5. **Brainstorming**: ChatGPT can help with brainstorming ideas for projects, business proposals, or even personal goals.\\n6. **Customer Service**: Businesses can use ChatGPT to provide 24/7 customer support, answering common questions and helping with simple tasks.\\n7. **Writing Assistance**: ChatGPT can help with writing tasks, such as drafting emails, letters, or other documents.\\n8. **Trivia and Fun Conversations**: ChatGPT can engage in trivia games, provide jokes, or simply have a fun conversation.\\n9. **Research Assistance**: ChatGPT can assist with research tasks, such as finding reliable sources, summarizing articles, or providing background information on a topic.\\n10. **Language Learning**: ChatGPT can help language learners practice their speaking and listening skills, as well as provide feedback on grammar and pronunciation.\\n11. **Summarization**: ChatGPT can summarize long pieces of text into shorter, more digestible versions.\\n12. **Personality and Interests**: ChatGPT can have a fun conversation with you, learning about your interests and personality.\\n13. **Writing Style Suggestions**: ChatGPT can provide suggestions for improving your writing style, such as sentence structure, vocabulary, and tone.\\n14. **Jargon and Technical Assistance**: ChatGPT can help with technical or specialized terms, providing clear and concise definitions.\\n15. **Chat Games**: ChatGPT can engage in various chat games, such as \"Would you rather...\", \"Two Truths and a Lie\", or \"Hangman\".\\n16. **Role-Playing**: ChatGPT can participate in role-playing scenarios, helping with improvisational skills and creative thinking.\\n17. **Personalized Recommendations**: ChatGPT can provide personalized recommendations for movies, books, music, or other media based on your preferences.\\n18. **Mental Health Support**: ChatGPT can provide basic support and guidance for mental health concerns, such as stress management and self-care.\\n19. **Business Research**: ChatGPT can assist with research tasks for businesses, such as market analysis and industry trends.\\n20. **Language Generation**: ChatGPT can generate text based on a prompt or topic, helping with content creation and writing tasks.\\n\\nThese are just a few examples of the many ways to use ChatGPT. Its capabilities and limitations will continue to evolve as the technology develops.', tool_calls=None), logprobs=None)], created=1732904143, model='llama3.1-8b', object='chat.completion', system_fingerprint='fp_fe26f95222', time_info=ChatCompletionResponseTimeInfo(completion_time=0.312123463, prompt_time=0.002400773, queue_time=2.99e-05, total_time=0.33031725883483887, created=1732904143), usage=ChatCompletionResponseUsage(completion_tokens=658, prompt_tokens=45, total_tokens=703), service_tier=None)\n"
     ]
    }
   ],
   "source": [
    "import os\n",
    "from cerebras.cloud.sdk import Cerebras\n",
    "\n",
    "client = Cerebras(\n",
    "    api_key=os.environ.get(\"CEREBRAS_API_KEY\"),\n",
    ")\n",
    "\n",
    "chat_completion = client.chat.completions.create(\n",
    "    messages=[\n",
    "        {\n",
    "            \"role\": \"user\",\n",
    "            \"content\": \"What is the best ways to use ChatGPT\",\n",
    "        }\n",
    "    ],\n",
    "    model=\"llama3.1-8b\",\n",
    ")\n",
    "\n",
    "print(chat_completion)"
   ]
  },
  {
   "cell_type": "code",
   "execution_count": null,
   "metadata": {},
   "outputs": [],
   "source": []
  }
 ],
 "metadata": {
  "kernelspec": {
   "display_name": "base",
   "language": "python",
   "name": "python3"
  },
  "language_info": {
   "codemirror_mode": {
    "name": "ipython",
    "version": 3
   },
   "file_extension": ".py",
   "mimetype": "text/x-python",
   "name": "python",
   "nbconvert_exporter": "python",
   "pygments_lexer": "ipython3",
   "version": "3.11.5"
  }
 },
 "nbformat": 4,
 "nbformat_minor": 2
}
